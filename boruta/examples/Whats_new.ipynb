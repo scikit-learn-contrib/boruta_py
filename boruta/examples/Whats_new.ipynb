{
 "cells": [
  {
   "cell_type": "markdown",
   "metadata": {},
   "source": [
    "<h1 align=\"center\">All relevant feature selection</h1>\n",
    "<h2 align=\"center\"> Regression - Boruta and beyond </h2>\n",
    "<p style=\"text-align:center\">\n",
    "   Human Bender<br>\n",
    "</p>\n",
    "\n",
    "\n",
    "In the original Boruta paper NIPS2003 and cited in the [Boruta paper](https://www.jstatsoft.org/article/view/v036i11/v36i11.pdf) the gini feature importance is used. The gini importance is known to be biased. See [this blog post](https://explained.ai/rf-importance/#5) for a nice illustration and [this one](https://blog.methodsconsultants.com/posts/be-aware-of-bias-in-rf-variable-importance-metrics/) for an explanation why is impurity importance biased. \n",
    "\n",
    "#### What's new:\n",
    "\n",
    "   - The categorical features (they are detected, encoded. The tree-based models are working better with integer encoding rather than with OHE, which leads to deep and unstable trees). If Catboost is used, then the cat.pred (if any) are set up\n",
    "   - You can use lightGBM, XGBoost and CatBosst (sklearn API only)\n",
    "   - Allow using sample_weight\n",
    "   - Supports permutation importance\n",
    "   - Support SHAP feature importance for lightGBM, XGBoost and CatBosst and does not introduce a direct dependency to the SHAP package nor to the boosting packages (for XGBoost and CatBoost you need to pass the data structure function though)\n",
    "   - The dependencies which are not part of the [list of scikit-learnn dependencies](https://scikit-learn.org/stable/install.html) are optional. Not part of the distribution but import checks are performed. Those dependencies are `tqdm` (for a nice user notification) and `SHAP` for the Shapley values.\n",
    "   - Visualization, as in the original R package, based on matplotlib (which is a scikit-learn dependency, see above, but installation is not forced in the setup.py) \n",
    "  \n",
    "Note that for lightGBM with SHAP, the run time for this example is almost the same as for Boruta with gini/impurity feature importance. The IQR (inter-quartile) is much smaller with permutation and SHAP importance."
   ]
  },
  {
   "cell_type": "code",
   "execution_count": 1,
   "metadata": {},
   "outputs": [
    {
     "data": {
      "text/plain": [
       "0"
      ]
     },
     "execution_count": 1,
     "metadata": {},
     "output_type": "execute_result"
    }
   ],
   "source": [
    "# from IPython.core.display import display, HTML\n",
    "# display(HTML(\"<style>.container { width:95% !important; }</style>\"))\n",
    "\n",
    "import gc\n",
    "from sklearn.datasets import fetch_openml\n",
    "from sklearn.utils import Bunch\n",
    "from sklearn.datasets import load_boston\n",
    "import pandas as pd\n",
    "import numpy as np\n",
    "\n",
    "from lightgbm import LGBMRegressor\n",
    "from catboost import CatBoostRegressor\n",
    "\n",
    "from boruta import BorutaPy\n",
    "# plt.style.use('fivethirtyeight')\n",
    "rng = np.random.RandomState(seed=42)\n",
    "\n",
    "import warnings\n",
    "warnings.filterwarnings('ignore')\n",
    "gc.enable()\n",
    "gc.collect()"
   ]
  },
  {
   "cell_type": "code",
   "execution_count": 2,
   "metadata": {},
   "outputs": [],
   "source": [
    "%matplotlib inline"
   ]
  },
  {
   "cell_type": "markdown",
   "metadata": {},
   "source": [
    "# Testing by adding random and genuine predictors to real data\n",
    "\n",
    "I'll use a classical data set to which I added random predictors (numerical and categorical). An All Relveant FS methods should discard them.\n",
    "In the unit tests, you'll find examples using artifical data with genuine (correlated and non-linear) predictors and with some random/noise columns.\n",
    "\n",
    "## Fetch the data"
   ]
  },
  {
   "cell_type": "code",
   "execution_count": 3,
   "metadata": {},
   "outputs": [],
   "source": [
    "def get_boston_data():\n",
    "    boston = load_boston()\n",
    "    rng = np.random.RandomState(seed=42)\n",
    "    X = pd.DataFrame(boston.data)\n",
    "    X.columns = boston.feature_names\n",
    "    X['random_num1'] = rng.randn(X.shape[0])\n",
    "    X['random_num2'] = np.random.poisson(1, X.shape[0])\n",
    "    # high cardinality\n",
    "    X['random_cat'] = rng.randint(10*X.shape[0], size=X.shape[0])\n",
    "    X['random_cat'] = 'cat_' + X['random_cat'].astype('str')\n",
    "    # low cardinality\n",
    "    nice_guys = ['Rick', 'Bender', 'Cartman', 'Morty', 'Fry', 'Vador', \n",
    "                 'Thanos', 'Bejita', 'Cell', 'Tinkywinky', 'Lecter', \n",
    "                 'Alien', 'Terminator', 'Drago', 'Dracula', \n",
    "                 'Krueger', 'Geoffrey', 'Goldfinder', 'Blackbeard', \n",
    "                 'Excel', 'SAS', 'Bias', 'Variance', 'Scrum',\n",
    "                 'Human', 'Garry', 'Coldplay', 'Imaginedragons',\n",
    "                 'Platist', 'Creationist', 'Gruber', 'KeyserSoze', 'Luthor',\n",
    "                 'Klaue', 'Bane', 'MarkZ']\n",
    "    X['random_cat_2'] = np.random.choice(nice_guys, X.shape[0])\n",
    "    y = pd.Series(boston.target)\n",
    "    # non linear noisy but genuine predictor to test the ability to detect even genuine noisy non-linearities\n",
    "    X['genuine_num'] = np.sqrt(y) + np.random.gamma(2, .5, X.shape[0])\n",
    "    cat_f = ['CHAS', 'RAD', 'random_cat', 'random_cat_2']\n",
    "    X[cat_f] = X[cat_f].astype(str).astype('category')\n",
    "    return Bunch(data=X,\n",
    "                 target=y,\n",
    "                 sample_weight=None,\n",
    "                 categorical=cat_f)\n",
    "\n",
    "def highlight_tick(str_match, figure, color='red', axis='y'):\n",
    "    if axis == 'y':\n",
    "        labels = [item.get_text() for item in figure.gca().get_yticklabels()]\n",
    "        indices = [i for i, s in enumerate(labels) if str_match in s]\n",
    "        [figure.gca().get_yticklabels()[idx].set_color(color) for idx in indices]\n",
    "    elif axis == 'x':\n",
    "        labels = [item.get_text() for item in figure.gca().get_xticklabels()]\n",
    "        indices = [i for i, s in enumerate(labels) if str_match in s]\n",
    "        [figure.gca().get_xticklabels()[idx].set_color(color) for idx in indices]\n",
    "    else:\n",
    "        raise ValueError(\"`axis` should be a string, either 'y' or 'x'\")\n",
    "\n",
    "    return figure"
   ]
  },
  {
   "cell_type": "code",
   "execution_count": 4,
   "metadata": {},
   "outputs": [],
   "source": [
    "boston = get_boston_data()\n",
    "X, y = boston.data, boston.target"
   ]
  },
  {
   "cell_type": "code",
   "execution_count": 5,
   "metadata": {},
   "outputs": [
    {
     "data": {
      "text/plain": [
       "CRIM             float64\n",
       "ZN               float64\n",
       "INDUS            float64\n",
       "CHAS            category\n",
       "NOX              float64\n",
       "RM               float64\n",
       "AGE              float64\n",
       "DIS              float64\n",
       "RAD             category\n",
       "TAX              float64\n",
       "PTRATIO          float64\n",
       "B                float64\n",
       "LSTAT            float64\n",
       "random_num1      float64\n",
       "random_num2        int32\n",
       "random_cat      category\n",
       "random_cat_2    category\n",
       "genuine_num      float64\n",
       "dtype: object"
      ]
     },
     "execution_count": 5,
     "metadata": {},
     "output_type": "execute_result"
    }
   ],
   "source": [
    "X.dtypes"
   ]
  },
  {
   "cell_type": "code",
   "execution_count": 6,
   "metadata": {},
   "outputs": [
    {
     "data": {
      "text/html": [
       "<div>\n",
       "<style scoped>\n",
       "    .dataframe tbody tr th:only-of-type {\n",
       "        vertical-align: middle;\n",
       "    }\n",
       "\n",
       "    .dataframe tbody tr th {\n",
       "        vertical-align: top;\n",
       "    }\n",
       "\n",
       "    .dataframe thead th {\n",
       "        text-align: right;\n",
       "    }\n",
       "</style>\n",
       "<table border=\"1\" class=\"dataframe\">\n",
       "  <thead>\n",
       "    <tr style=\"text-align: right;\">\n",
       "      <th></th>\n",
       "      <th>CRIM</th>\n",
       "      <th>ZN</th>\n",
       "      <th>INDUS</th>\n",
       "      <th>CHAS</th>\n",
       "      <th>NOX</th>\n",
       "      <th>RM</th>\n",
       "      <th>AGE</th>\n",
       "      <th>DIS</th>\n",
       "      <th>RAD</th>\n",
       "      <th>TAX</th>\n",
       "      <th>PTRATIO</th>\n",
       "      <th>B</th>\n",
       "      <th>LSTAT</th>\n",
       "      <th>random_num1</th>\n",
       "      <th>random_num2</th>\n",
       "      <th>random_cat</th>\n",
       "      <th>random_cat_2</th>\n",
       "      <th>genuine_num</th>\n",
       "    </tr>\n",
       "  </thead>\n",
       "  <tbody>\n",
       "    <tr>\n",
       "      <th>0</th>\n",
       "      <td>0.00632</td>\n",
       "      <td>18.0</td>\n",
       "      <td>2.31</td>\n",
       "      <td>0.0</td>\n",
       "      <td>0.538</td>\n",
       "      <td>6.575</td>\n",
       "      <td>65.2</td>\n",
       "      <td>4.0900</td>\n",
       "      <td>1.0</td>\n",
       "      <td>296.0</td>\n",
       "      <td>15.3</td>\n",
       "      <td>396.90</td>\n",
       "      <td>4.98</td>\n",
       "      <td>0.496714</td>\n",
       "      <td>2</td>\n",
       "      <td>cat_3517</td>\n",
       "      <td>KeyserSoze</td>\n",
       "      <td>6.588640</td>\n",
       "    </tr>\n",
       "    <tr>\n",
       "      <th>1</th>\n",
       "      <td>0.02731</td>\n",
       "      <td>0.0</td>\n",
       "      <td>7.07</td>\n",
       "      <td>0.0</td>\n",
       "      <td>0.469</td>\n",
       "      <td>6.421</td>\n",
       "      <td>78.9</td>\n",
       "      <td>4.9671</td>\n",
       "      <td>2.0</td>\n",
       "      <td>242.0</td>\n",
       "      <td>17.8</td>\n",
       "      <td>396.90</td>\n",
       "      <td>9.14</td>\n",
       "      <td>-0.138264</td>\n",
       "      <td>1</td>\n",
       "      <td>cat_2397</td>\n",
       "      <td>Krueger</td>\n",
       "      <td>5.112846</td>\n",
       "    </tr>\n",
       "    <tr>\n",
       "      <th>2</th>\n",
       "      <td>0.02729</td>\n",
       "      <td>0.0</td>\n",
       "      <td>7.07</td>\n",
       "      <td>0.0</td>\n",
       "      <td>0.469</td>\n",
       "      <td>7.185</td>\n",
       "      <td>61.1</td>\n",
       "      <td>4.9671</td>\n",
       "      <td>2.0</td>\n",
       "      <td>242.0</td>\n",
       "      <td>17.8</td>\n",
       "      <td>392.83</td>\n",
       "      <td>4.03</td>\n",
       "      <td>0.647689</td>\n",
       "      <td>1</td>\n",
       "      <td>cat_3735</td>\n",
       "      <td>Bane</td>\n",
       "      <td>6.668522</td>\n",
       "    </tr>\n",
       "    <tr>\n",
       "      <th>3</th>\n",
       "      <td>0.03237</td>\n",
       "      <td>0.0</td>\n",
       "      <td>2.18</td>\n",
       "      <td>0.0</td>\n",
       "      <td>0.458</td>\n",
       "      <td>6.998</td>\n",
       "      <td>45.8</td>\n",
       "      <td>6.0622</td>\n",
       "      <td>3.0</td>\n",
       "      <td>222.0</td>\n",
       "      <td>18.7</td>\n",
       "      <td>394.63</td>\n",
       "      <td>2.94</td>\n",
       "      <td>1.523030</td>\n",
       "      <td>3</td>\n",
       "      <td>cat_2870</td>\n",
       "      <td>Lecter</td>\n",
       "      <td>6.298638</td>\n",
       "    </tr>\n",
       "    <tr>\n",
       "      <th>4</th>\n",
       "      <td>0.06905</td>\n",
       "      <td>0.0</td>\n",
       "      <td>2.18</td>\n",
       "      <td>0.0</td>\n",
       "      <td>0.458</td>\n",
       "      <td>7.147</td>\n",
       "      <td>54.2</td>\n",
       "      <td>6.0622</td>\n",
       "      <td>3.0</td>\n",
       "      <td>222.0</td>\n",
       "      <td>18.7</td>\n",
       "      <td>396.90</td>\n",
       "      <td>5.33</td>\n",
       "      <td>-0.234153</td>\n",
       "      <td>0</td>\n",
       "      <td>cat_1160</td>\n",
       "      <td>Bejita</td>\n",
       "      <td>6.926993</td>\n",
       "    </tr>\n",
       "  </tbody>\n",
       "</table>\n",
       "</div>"
      ],
      "text/plain": [
       "      CRIM    ZN  INDUS CHAS    NOX     RM   AGE     DIS  RAD    TAX  PTRATIO  \\\n",
       "0  0.00632  18.0   2.31  0.0  0.538  6.575  65.2  4.0900  1.0  296.0     15.3   \n",
       "1  0.02731   0.0   7.07  0.0  0.469  6.421  78.9  4.9671  2.0  242.0     17.8   \n",
       "2  0.02729   0.0   7.07  0.0  0.469  7.185  61.1  4.9671  2.0  242.0     17.8   \n",
       "3  0.03237   0.0   2.18  0.0  0.458  6.998  45.8  6.0622  3.0  222.0     18.7   \n",
       "4  0.06905   0.0   2.18  0.0  0.458  7.147  54.2  6.0622  3.0  222.0     18.7   \n",
       "\n",
       "        B  LSTAT  random_num1  random_num2 random_cat random_cat_2  \\\n",
       "0  396.90   4.98     0.496714            2   cat_3517   KeyserSoze   \n",
       "1  396.90   9.14    -0.138264            1   cat_2397      Krueger   \n",
       "2  392.83   4.03     0.647689            1   cat_3735         Bane   \n",
       "3  394.63   2.94     1.523030            3   cat_2870       Lecter   \n",
       "4  396.90   5.33    -0.234153            0   cat_1160       Bejita   \n",
       "\n",
       "   genuine_num  \n",
       "0     6.588640  \n",
       "1     5.112846  \n",
       "2     6.668522  \n",
       "3     6.298638  \n",
       "4     6.926993  "
      ]
     },
     "execution_count": 6,
     "metadata": {},
     "output_type": "execute_result"
    }
   ],
   "source": [
    "X.head()"
   ]
  },
  {
   "cell_type": "markdown",
   "metadata": {},
   "source": [
    "## Model \n",
    "\n",
    "Let's use the same model for all the examples"
   ]
  },
  {
   "cell_type": "code",
   "execution_count": 7,
   "metadata": {},
   "outputs": [],
   "source": [
    "# Let's use lightgbm as booster, see below for using more models\n",
    "model = LGBMRegressor(random_state=42, verbose=-1, max_depth=5)"
   ]
  },
  {
   "cell_type": "markdown",
   "metadata": {},
   "source": [
    "## Boruta (vanilla)\n",
    "\n",
    "the original form, with gini/impurity feature importance. IQR is large."
   ]
  },
  {
   "cell_type": "code",
   "execution_count": 8,
   "metadata": {},
   "outputs": [
    {
     "name": "stderr",
     "output_type": "stream",
     "text": [
      "Boruta iteration:  95%|████████████████████████████████████████████████████████████▊   | 19/20 [00:05<00:00,  3.22it/s]\n"
     ]
    },
    {
     "name": "stdout",
     "output_type": "stream",
     "text": [
      "\n",
      "\n",
      "Boruta finished running using native var. imp.\n",
      "\n",
      "Iteration: \t20 / 20\n",
      "Confirmed: \t2\n",
      "Tentative: \t0\n",
      "Rejected: \t16\n",
      "All relevant predictors selected in 00:00:05.91\n",
      "['RM', 'genuine_num']\n",
      "Wall time: 6.1 s\n"
     ]
    },
    {
     "data": {
      "image/png": "[encoded data removed]",
      "text/plain": [
       "<Figure size 1152x259.2 with 1 Axes>"
      ]
     },
     "metadata": {},
     "output_type": "display_data"
    }
   ],
   "source": [
    "%%time\n",
    "\n",
    "feat_selector = BorutaPy(model, verbose=1, max_iter=20, random_state=42, importance='native') #, early_stopping=True, n_iter_no_change=20)\n",
    "feat_selector.fit(X, y, sample_weight=None)\n",
    "print(feat_selector.support_names_)\n",
    "fig = feat_selector.plot_importance(n_feat_per_inch=5)\n",
    "\n",
    "# highlight synthetic random and genuine variables\n",
    "fig = highlight_tick(figure=fig, str_match='random')\n",
    "fig = highlight_tick(figure=fig, str_match='genuine', color='green')"
   ]
  },
  {
   "cell_type": "code",
   "execution_count": 9,
   "metadata": {},
   "outputs": [
    {
     "data": {
      "text/html": [
       "<div>\n",
       "<style scoped>\n",
       "    .dataframe tbody tr th:only-of-type {\n",
       "        vertical-align: middle;\n",
       "    }\n",
       "\n",
       "    .dataframe tbody tr th {\n",
       "        vertical-align: top;\n",
       "    }\n",
       "\n",
       "    .dataframe thead th {\n",
       "        text-align: right;\n",
       "    }\n",
       "</style>\n",
       "<table border=\"1\" class=\"dataframe\">\n",
       "  <thead>\n",
       "    <tr style=\"text-align: right;\">\n",
       "      <th></th>\n",
       "      <th>predictor</th>\n",
       "      <th>Boruta</th>\n",
       "      <th>Boruta_weak_incl</th>\n",
       "    </tr>\n",
       "  </thead>\n",
       "  <tbody>\n",
       "    <tr>\n",
       "      <th>0</th>\n",
       "      <td>CRIM</td>\n",
       "      <td>0</td>\n",
       "      <td>0</td>\n",
       "    </tr>\n",
       "    <tr>\n",
       "      <th>1</th>\n",
       "      <td>ZN</td>\n",
       "      <td>0</td>\n",
       "      <td>0</td>\n",
       "    </tr>\n",
       "    <tr>\n",
       "      <th>2</th>\n",
       "      <td>INDUS</td>\n",
       "      <td>0</td>\n",
       "      <td>0</td>\n",
       "    </tr>\n",
       "    <tr>\n",
       "      <th>3</th>\n",
       "      <td>CHAS</td>\n",
       "      <td>0</td>\n",
       "      <td>0</td>\n",
       "    </tr>\n",
       "    <tr>\n",
       "      <th>4</th>\n",
       "      <td>NOX</td>\n",
       "      <td>0</td>\n",
       "      <td>0</td>\n",
       "    </tr>\n",
       "    <tr>\n",
       "      <th>5</th>\n",
       "      <td>RM</td>\n",
       "      <td>1</td>\n",
       "      <td>1</td>\n",
       "    </tr>\n",
       "    <tr>\n",
       "      <th>6</th>\n",
       "      <td>AGE</td>\n",
       "      <td>0</td>\n",
       "      <td>0</td>\n",
       "    </tr>\n",
       "    <tr>\n",
       "      <th>7</th>\n",
       "      <td>DIS</td>\n",
       "      <td>0</td>\n",
       "      <td>0</td>\n",
       "    </tr>\n",
       "    <tr>\n",
       "      <th>8</th>\n",
       "      <td>RAD</td>\n",
       "      <td>0</td>\n",
       "      <td>0</td>\n",
       "    </tr>\n",
       "    <tr>\n",
       "      <th>9</th>\n",
       "      <td>TAX</td>\n",
       "      <td>0</td>\n",
       "      <td>0</td>\n",
       "    </tr>\n",
       "    <tr>\n",
       "      <th>10</th>\n",
       "      <td>PTRATIO</td>\n",
       "      <td>0</td>\n",
       "      <td>0</td>\n",
       "    </tr>\n",
       "    <tr>\n",
       "      <th>11</th>\n",
       "      <td>B</td>\n",
       "      <td>0</td>\n",
       "      <td>0</td>\n",
       "    </tr>\n",
       "    <tr>\n",
       "      <th>12</th>\n",
       "      <td>LSTAT</td>\n",
       "      <td>0</td>\n",
       "      <td>0</td>\n",
       "    </tr>\n",
       "    <tr>\n",
       "      <th>13</th>\n",
       "      <td>random_num1</td>\n",
       "      <td>0</td>\n",
       "      <td>0</td>\n",
       "    </tr>\n",
       "    <tr>\n",
       "      <th>14</th>\n",
       "      <td>random_num2</td>\n",
       "      <td>0</td>\n",
       "      <td>0</td>\n",
       "    </tr>\n",
       "    <tr>\n",
       "      <th>15</th>\n",
       "      <td>random_cat</td>\n",
       "      <td>0</td>\n",
       "      <td>0</td>\n",
       "    </tr>\n",
       "    <tr>\n",
       "      <th>16</th>\n",
       "      <td>random_cat_2</td>\n",
       "      <td>0</td>\n",
       "      <td>0</td>\n",
       "    </tr>\n",
       "    <tr>\n",
       "      <th>17</th>\n",
       "      <td>genuine_num</td>\n",
       "      <td>1</td>\n",
       "      <td>1</td>\n",
       "    </tr>\n",
       "  </tbody>\n",
       "</table>\n",
       "</div>"
      ],
      "text/plain": [
       "       predictor  Boruta  Boruta_weak_incl\n",
       "0           CRIM       0                 0\n",
       "1             ZN       0                 0\n",
       "2          INDUS       0                 0\n",
       "3           CHAS       0                 0\n",
       "4            NOX       0                 0\n",
       "5             RM       1                 1\n",
       "6            AGE       0                 0\n",
       "7            DIS       0                 0\n",
       "8            RAD       0                 0\n",
       "9            TAX       0                 0\n",
       "10       PTRATIO       0                 0\n",
       "11             B       0                 0\n",
       "12         LSTAT       0                 0\n",
       "13   random_num1       0                 0\n",
       "14   random_num2       0                 0\n",
       "15    random_cat       0                 0\n",
       "16  random_cat_2       0                 0\n",
       "17   genuine_num       1                 1"
      ]
     },
     "execution_count": 9,
     "metadata": {},
     "output_type": "execute_result"
    }
   ],
   "source": [
    "feat_selector.tag_df"
   ]
  },
  {
   "cell_type": "markdown",
   "metadata": {},
   "source": [
    "## Boruta with permutation importance\n",
    "\n",
    "Not the original form, same process but using permutation importance instead of the gini/impurity one. IQR is small."
   ]
  },
  {
   "cell_type": "code",
   "execution_count": 10,
   "metadata": {},
   "outputs": [
    {
     "name": "stderr",
     "output_type": "stream",
     "text": [
      "Boruta iteration:  95%|████████████████████████████████████████████████████████████▊   | 19/20 [00:29<00:01,  1.54s/it]\n"
     ]
    },
    {
     "name": "stdout",
     "output_type": "stream",
     "text": [
      "\n",
      "\n",
      "Boruta finished running using pimp var. imp.\n",
      "\n",
      "Iteration: \t20 / 20\n",
      "Confirmed: \t11\n",
      "Tentative: \t0\n",
      "Rejected: \t7\n",
      "All relevant predictors selected in 00:00:29.20\n",
      "['CRIM', 'INDUS', 'NOX', 'RM', 'AGE', 'DIS', 'TAX', 'PTRATIO', 'B', 'LSTAT', 'genuine_num']\n",
      "Wall time: 29.4 s\n"
     ]
    },
    {
     "data": {
      "image/png": "[encoded data removed]",
      "text/plain": [
       "<Figure size 1152x259.2 with 1 Axes>"
      ]
     },
     "metadata": {},
     "output_type": "display_data"
    }
   ],
   "source": [
    "%%time\n",
    "\n",
    "model = LGBMRegressor(random_state=42, verbose=-1, max_depth=5)\n",
    "\n",
    "feat_selector = BorutaPy(model, verbose=1, max_iter=20, random_state=42, importance='pimp')#, early_stopping=True, n_iter_no_change=20)\n",
    "feat_selector.fit(X, y, sample_weight=None)\n",
    "print(feat_selector.support_names_)\n",
    "fig = feat_selector.plot_importance(n_feat_per_inch=5)\n",
    "\n",
    "# highlight synthetic random and genuine variables\n",
    "fig = highlight_tick(figure=fig, str_match='random')\n",
    "fig = highlight_tick(figure=fig, str_match='genuine', color='green')"
   ]
  },
  {
   "cell_type": "markdown",
   "metadata": {},
   "source": [
    "## Boruta with SHAP\n",
    "\n",
    "Not the original form, same process but using SHAP importance instead of the gini/impurity one."
   ]
  },
  {
   "cell_type": "code",
   "execution_count": 11,
   "metadata": {},
   "outputs": [
    {
     "name": "stderr",
     "output_type": "stream",
     "text": [
      "Boruta iteration:  95%|████████████████████████████████████████████████████████████▊   | 19/20 [00:06<00:00,  2.99it/s]\n"
     ]
    },
    {
     "name": "stdout",
     "output_type": "stream",
     "text": [
      "\n",
      "\n",
      "Boruta finished running using shap var. imp.\n",
      "\n",
      "Iteration: \t20 / 20\n",
      "Confirmed: \t10\n",
      "Tentative: \t0\n",
      "Rejected: \t8\n",
      "All relevant predictors selected in 00:00:06.36\n",
      "['CRIM', 'INDUS', 'NOX', 'RM', 'AGE', 'DIS', 'TAX', 'PTRATIO', 'LSTAT', 'genuine_num']\n",
      "Wall time: 6.54 s\n"
     ]
    },
    {
     "data": {
      "image/png": "[encoded data removed]",
      "text/plain": [
       "<Figure size 1152x259.2 with 1 Axes>"
      ]
     },
     "metadata": {},
     "output_type": "display_data"
    }
   ],
   "source": [
    "%%time\n",
    "\n",
    "model = LGBMRegressor(random_state=42, verbose=-1, max_depth=5)\n",
    "\n",
    "feat_selector = BorutaPy(model, verbose= 1, max_iter= 20, random_state=42, importance='shap')\n",
    "feat_selector.fit(X, y, sample_weight=None)\n",
    "print(feat_selector.support_names_)\n",
    "fig = feat_selector.plot_importance(n_feat_per_inch=5)\n",
    "\n",
    "# highlight synthetic random and genuine variables\n",
    "fig = highlight_tick(figure=fig, str_match='random')\n",
    "fig = highlight_tick(figure=fig, str_match='genuine', color='green')"
   ]
  }
 ],
 "metadata": {
  "kernelspec": {
   "display_name": "Python [conda env:boruta]",
   "language": "python",
   "name": "conda-env-boruta-py"
  },
  "language_info": {
   "codemirror_mode": {
    "name": "ipython",
    "version": 3
   },
   "file_extension": ".py",
   "mimetype": "text/x-python",
   "name": "python",
   "nbconvert_exporter": "python",
   "pygments_lexer": "ipython3",
   "version": "3.8.10"
  }
 },
 "nbformat": 4,
 "nbformat_minor": 4
}
